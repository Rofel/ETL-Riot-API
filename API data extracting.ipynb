{
 "cells": [
  {
   "cell_type": "markdown",
   "id": "d60a5151",
   "metadata": {},
   "source": [
    "## Read api_key file, and get puuid of a summoner name"
   ]
  },
  {
   "cell_type": "code",
   "execution_count": null,
   "id": "b7302456",
   "metadata": {},
   "outputs": [],
   "source": [
    "import requests\n",
    "import time\n",
    "from methods import get_puuid, get_matches, get_match_info, get_game_patch, get_challengers_solo, get_master_solo, create_connection\n",
    "\n",
    "with open('D:\\\\365datascience\\\\League of Legends Project\\\\API\\\\API_key.txt') as f:\n",
    "    api_key = f.readline()\n",
    "\n"
   ]
  },
  {
   "cell_type": "code",
   "execution_count": null,
   "id": "4623ae08",
   "metadata": {},
   "outputs": [],
   "source": [
    "summoner_name= 'Rofelzin'\n",
    "\n",
    "def get_puuid(api_key, summoner_name):\n",
    "    \n",
    "    url = f\"https://br1.api.riotgames.com/lol/summoner/v4/summoners/by-name/{summoner_name}\"\n",
    "    headers = {\n",
    "    'X-Riot-Token':api_key\n",
    "    }\n",
    "    response = requests.get(url,headers=headers)\n",
    "    \n",
    "    if response.status_code == 200:\n",
    "        data = response.json()\n",
    "        return data['puuid'], data['id']  # 'id' is the encrypted PUUID\n",
    "    else:\n",
    "        print(f\"Error fetching data: {response.status_code}\")\n",
    "        return None, None\n",
    "\n",
    "# Usage\n",
    "summoner_name= 'Rofelzin'\n",
    "puuid, encrypted_puuid = get_puuid(api_key, summoner_name)\n",
    "\n",
    "# Output the results\n",
    "print(f\"PUUID: {puuid}\")\n",
    "print(f\"Encrypted PUUID: {encrypted_puuid}\")\n",
    "\n"
   ]
  },
  {
   "cell_type": "markdown",
   "id": "823385ed",
   "metadata": {},
   "source": [
    "## Get list of 20 last matches of the summoner"
   ]
  },
  {
   "cell_type": "code",
   "execution_count": null,
   "id": "9dcf1605",
   "metadata": {},
   "outputs": [],
   "source": [
    "\n",
    "def get_matches(api_key, puuid):\n",
    "    url = f\"https://americas.api.riotgames.com/lol/match/v5/matches/by-puuid/{puuid}/ids\"\n",
    "    headers = {'X-Riot-Token': api_key}\n",
    "    response = requests.get(url, headers=headers)\n",
    "    \n",
    "    if response.status_code == 200:\n",
    "        return response.json()\n",
    "    else:\n",
    "        print(f\"Error fetching data: {response.status_code}\")\n",
    "        return None, None\n",
    "\n",
    "matches = get_matches(api_key, puuid)\n"
   ]
  },
  {
   "cell_type": "code",
   "execution_count": null,
   "id": "f12f4bff",
   "metadata": {
    "scrolled": true
   },
   "outputs": [],
   "source": [
    "matches"
   ]
  },
  {
   "cell_type": "markdown",
   "id": "57e8d467",
   "metadata": {},
   "source": [
    "### Connection with the mysql database"
   ]
  },
  {
   "cell_type": "code",
   "execution_count": null,
   "id": "75f8e178",
   "metadata": {},
   "outputs": [],
   "source": [
    "\n",
    "\n",
    "def create_connection():\n",
    "    return mysql.connector.connect(\n",
    "        user='root', \n",
    "        password='025rafael890',\n",
    "        host='127.0.0.1',\n",
    "        database='leagueapi'\n",
    "    )\n",
    "\n",
    "def setup_database():\n",
    "    conn = create_connection()\n",
    "    cursor = conn.cursor()\n",
    "    \n",
    "    cursor.execute('''CREATE TABLE IF NOT EXISTS matches (\n",
    "                      match_id VARCHAR(255) PRIMARY KEY,\n",
    "                      champion INT,\n",
    "                      lane VARCHAR(255))''')\n",
    "    \n",
    "    conn.commit()\n",
    "    conn.close()\n",
    "\n",
    "setup_database()"
   ]
  },
  {
   "cell_type": "markdown",
   "id": "6fd999a4",
   "metadata": {},
   "source": [
    "## Getting the match info for a specific matchid"
   ]
  },
  {
   "cell_type": "code",
   "execution_count": null,
   "id": "08aa1819",
   "metadata": {},
   "outputs": [],
   "source": [
    "def get_match_info(api_key, matchid):\n",
    "    url = f\"https://americas.api.riotgames.com/lol/match/v5/matches/{matchid}\"\n",
    "    headers = {'X-Riot-Token': api_key}\n",
    "    response = requests.get(url, headers=headers)\n",
    "    \n",
    "    if response.status_code == 200:\n",
    "        return response.json()\n",
    "    else:\n",
    "        print(f\"Error fetching data: {response.status_code}\")\n",
    "        return None, None\n",
    "\n",
    "match_info = get_match_info(api_key, matches[1])\n"
   ]
  },
  {
   "cell_type": "markdown",
   "id": "2ec7d825",
   "metadata": {},
   "source": [
    "## Exploring the data"
   ]
  },
  {
   "cell_type": "code",
   "execution_count": null,
   "id": "bbd9d97e",
   "metadata": {},
   "outputs": [],
   "source": [
    "match_info.keys()"
   ]
  },
  {
   "cell_type": "code",
   "execution_count": null,
   "id": "49d1632b",
   "metadata": {},
   "outputs": [],
   "source": [
    "match_info['info']"
   ]
  },
  {
   "cell_type": "code",
   "execution_count": null,
   "id": "279175ab",
   "metadata": {
    "scrolled": true
   },
   "outputs": [],
   "source": [
    "match_info['info']['participants'][0]['placement']"
   ]
  },
  {
   "cell_type": "code",
   "execution_count": null,
   "id": "10799b44",
   "metadata": {
    "scrolled": true
   },
   "outputs": [],
   "source": [
    "match_info['info']['participants'][0].keys()"
   ]
  },
  {
   "cell_type": "code",
   "execution_count": null,
   "id": "b91d3577",
   "metadata": {},
   "outputs": [],
   "source": [
    "match_info['info']['participants'][0]['puuid']"
   ]
  },
  {
   "cell_type": "code",
   "execution_count": null,
   "id": "67ab83a5",
   "metadata": {},
   "outputs": [],
   "source": [
    "match_info['metadata']['participants'].index('ARoGlv16Prv2cW3pJ4vc4JL9a0YhwpIlU1WP6aB4nXjBc6ydMMJ9Ka4Ia8RRT5txVKDi2wOavGzLJA')"
   ]
  },
  {
   "cell_type": "code",
   "execution_count": null,
   "id": "2dec5cb2",
   "metadata": {
    "scrolled": true
   },
   "outputs": [],
   "source": [
    "match_info['info']['teams']"
   ]
  },
  {
   "cell_type": "code",
   "execution_count": null,
   "id": "788b9bec",
   "metadata": {},
   "outputs": [],
   "source": [
    "def get_game_patch(gameVersion):\n",
    "    patch = float(gameVersion.split('.',2)[0] + '.' + gameVersion.split('.',2)[1])\n",
    "    return patch"
   ]
  },
  {
   "cell_type": "markdown",
   "id": "eac5ce0f",
   "metadata": {},
   "source": [
    "## Method - Insert data in te SQLdatabase"
   ]
  },
  {
   "cell_type": "code",
   "execution_count": null,
   "id": "d1140ca4",
   "metadata": {},
   "outputs": [],
   "source": [
    "def store_matches(info):\n",
    "    conn = create_connection()\n",
    "    cursor = conn.cursor()\n",
    "    \n",
    "    for match in matches:\n",
    "        match_id = info['gameid']\n",
    "        champion = info['champion']\n",
    "        lane = info['lane']\n",
    "        cursor.execute('INSERT IGNORE INTO matches VALUES (%s, %s, %s)', (match_id, champion, lane))\n",
    "    \n",
    "    conn.commit()\n",
    "    conn.close()\n"
   ]
  },
  {
   "cell_type": "code",
   "execution_count": null,
   "id": "68e93e32",
   "metadata": {},
   "outputs": [],
   "source": [
    "index = match_info['metadata']['participants'].index(puuid)\n",
    "gameid = match_info['info']['gameId']\n",
    "champion =  match_info['info']['participants'][index]['championId']\n",
    "lane = match_info['info']['participants'][index]['teamPosition']\n",
    "info = {'gameid':gameid,'champion':champion,'lane':lane}"
   ]
  },
  {
   "cell_type": "code",
   "execution_count": null,
   "id": "6cb48591",
   "metadata": {},
   "outputs": [],
   "source": [
    "info"
   ]
  },
  {
   "cell_type": "code",
   "execution_count": null,
   "id": "ddedfe2c",
   "metadata": {},
   "outputs": [],
   "source": [
    "store_matches(info)"
   ]
  },
  {
   "cell_type": "code",
   "execution_count": null,
   "id": "30c753d2",
   "metadata": {},
   "outputs": [],
   "source": [
    "matches"
   ]
  },
  {
   "cell_type": "markdown",
   "id": "8f9431bb",
   "metadata": {},
   "source": [
    "## Loop that insert all game data to the database, from the summoner"
   ]
  },
  {
   "cell_type": "code",
   "execution_count": null,
   "id": "e03b29f9",
   "metadata": {},
   "outputs": [],
   "source": [
    "for match in matches:\n",
    "    ## Get match info from API\n",
    "    match_info = get_match_info(api_key, match)\n",
    "    \n",
    "    #Create inputs for DataBase \n",
    "    ## CHANGE IT FOR A METHOD TOO\n",
    "    index = match_info['metadata']['participants'].index(puuid)\n",
    "    gameid = match_info['info']['gameId']\n",
    "    champion =  match_info['info']['participants'][index]['championId']\n",
    "    lane = match_info['info']['participants'][index]['teamPosition']\n",
    "    info = {'gameid':gameid,'champion':champion,'lane':lane}\n",
    "    \n",
    "    #Input into database\n",
    "    store_matches(info)\n",
    "    "
   ]
  },
  {
   "cell_type": "markdown",
   "id": "9faad55a",
   "metadata": {},
   "source": [
    "## Listing Challenger player names\n"
   ]
  },
  {
   "cell_type": "code",
   "execution_count": null,
   "id": "237f9d81",
   "metadata": {},
   "outputs": [],
   "source": [
    "def get_challengers_solo(api_key):\n",
    "    url = f\"https://br1.api.riotgames.com/lol/league/v4/challengerleagues/by-queue/RANKED_SOLO_5x5\"\n",
    "    headers = {'X-Riot-Token': api_key}\n",
    "    response = requests.get(url, headers=headers)\n",
    "    \n",
    "    if response.status_code == 200:\n",
    "        return response.json()\n",
    "    else:\n",
    "        print(f\"Error fetching data: {response.status_code}\")\n",
    "        return None, None\n",
    "\n",
    "challengers = get_challengers_solo(api_key)"
   ]
  },
  {
   "cell_type": "markdown",
   "id": "8c4a143f",
   "metadata": {},
   "source": [
    "### Exploring Challengers data"
   ]
  },
  {
   "cell_type": "code",
   "execution_count": null,
   "id": "4f5077e1",
   "metadata": {},
   "outputs": [],
   "source": [
    "challengers.keys()"
   ]
  },
  {
   "cell_type": "code",
   "execution_count": null,
   "id": "077241b9",
   "metadata": {},
   "outputs": [],
   "source": [
    "import pandas as pd"
   ]
  },
  {
   "cell_type": "code",
   "execution_count": null,
   "id": "d643dfba",
   "metadata": {},
   "outputs": [],
   "source": [
    "df = pd.DataFrame(challengers['entries'])"
   ]
  },
  {
   "cell_type": "code",
   "execution_count": null,
   "id": "c41a9532",
   "metadata": {
    "scrolled": true
   },
   "outputs": [],
   "source": [
    "df.sort_values('leaguePoints',ascending=False)"
   ]
  },
  {
   "cell_type": "markdown",
   "id": "7f901353",
   "metadata": {},
   "source": [
    "## List of all leagues entries - Ranked Solo"
   ]
  },
  {
   "cell_type": "code",
   "execution_count": null,
   "id": "296654e1",
   "metadata": {},
   "outputs": [],
   "source": [
    "def get_master_solo(api_key, division, tier):\n",
    "    url = f\"https://br1.api.riotgames.com/lol/league/v4/entries/RANKED_SOLO_5x5/{division}/{tier}?page=1\"\n",
    "    headers = {'X-Riot-Token': api_key}\n",
    "    response = requests.get(url, headers=headers)\n",
    "    \n",
    "    if response.status_code == 200:\n",
    "        return response.json()\n",
    "    else:\n",
    "        print(f\"Error fetching data: {response.status_code}\")\n",
    "        return None, None\n",
    "\n",
    "    \n",
    "division = 'DIAMOND' # 'IRON', 'BRONZE', 'SILVER','GOLD','PLATINUM','EMERALD','DIAMOND'\n",
    "tier = 'I' # 'I', 'II', 'III', 'IV'\n",
    "entries = get_master_solo(api_key, division, tier)"
   ]
  },
  {
   "cell_type": "code",
   "execution_count": null,
   "id": "b8a845ec",
   "metadata": {},
   "outputs": [],
   "source": [
    "entries[0]"
   ]
  },
  {
   "cell_type": "code",
   "execution_count": null,
   "id": "61c2217e",
   "metadata": {},
   "outputs": [],
   "source": [
    "df_entries = pd.DataFrame(entrys)"
   ]
  },
  {
   "cell_type": "code",
   "execution_count": null,
   "id": "53248f7a",
   "metadata": {},
   "outputs": [],
   "source": [
    "df_entries.sort_values('leaguePoints',ascending=False)"
   ]
  },
  {
   "cell_type": "markdown",
   "id": "580f2216",
   "metadata": {},
   "source": [
    "# With all this info and code, lets start to make a code that will read first 20 players in the soloq Challhenger 5x5 Brazil, and return the game info from this matches.\n",
    "\n",
    "For this we will need a new DB structure, so we will create a DF with all game info. Then we can choose if we want to drop some, or separate that into different tables in our schema. The process will be: \n",
    "- Retrieve information from the top 20 challenger players; (1 req)\n",
    "- Create a list with all 20 last games from them. This list will contain 400 games ar first; (20 req)\n",
    "- Drop duplicate gameids, as they may be playing games togheter;\n",
    "- Retrieve information from this gameids, and store info from all players in the game; (max: 400 req)\n",
    "- Create a df will all info retrieved;\n",
    "\n",
    "#### Pre-Project Steps\n",
    "- Create a .py to contain all relevant functions we have;\n",
    "- Analyse all info contained into matches and choose if will drop any (https://developer.riotgames.com/apis#match-v5/GET_getMatch)\n",
    "- Create a mySQL schema, with the choosen info avaible;"
   ]
  },
  {
   "cell_type": "markdown",
   "id": "18ff0cc0",
   "metadata": {},
   "source": [
    "## Getting puuid from challengers list"
   ]
  },
  {
   "cell_type": "code",
   "execution_count": null,
   "id": "3a213062",
   "metadata": {},
   "outputs": [],
   "source": [
    "lista_challenger = df.sort_values('leaguePoints',ascending=False)['summonerName'].tolist()"
   ]
  },
  {
   "cell_type": "code",
   "execution_count": null,
   "id": "590263b5",
   "metadata": {
    "scrolled": false
   },
   "outputs": [],
   "source": [
    "lista_challenger[:20]"
   ]
  },
  {
   "cell_type": "markdown",
   "id": "d56fafc8",
   "metadata": {},
   "source": [
    "#### Get a list of matchs from this list"
   ]
  },
  {
   "cell_type": "code",
   "execution_count": null,
   "id": "07d5613c",
   "metadata": {},
   "outputs": [],
   "source": [
    "lista_jogos =[]\n",
    "count = 0\n",
    "for player in lista_challenger:\n",
    "    puuid, encrypted_puuid = get_puuid(api_key, player)\n",
    "    matches = get_matches(api_key, puuid)\n",
    "    lista_jogos.append(matches)\n",
    "    count +=1\n",
    "    if count == 100:\n",
    "        time.sleep(120)\n",
    "        count=0"
   ]
  },
  {
   "cell_type": "code",
   "execution_count": null,
   "id": "09a7d647",
   "metadata": {},
   "outputs": [],
   "source": [
    "lista_jogos_unicos =[] "
   ]
  },
  {
   "cell_type": "code",
   "execution_count": null,
   "id": "1c41844c",
   "metadata": {},
   "outputs": [],
   "source": [
    "lista_jogos_unicos = [item for sublist in lista_jogos for item in sublist]"
   ]
  },
  {
   "cell_type": "code",
   "execution_count": null,
   "id": "065b8721",
   "metadata": {
    "scrolled": true
   },
   "outputs": [],
   "source": [
    "lista_jogos_unicos"
   ]
  },
  {
   "cell_type": "code",
   "execution_count": null,
   "id": "ad6672db",
   "metadata": {},
   "outputs": [],
   "source": [
    "unique_set = set(lista_jogos_unicos)\n",
    "lista_jogos_unicos = list(unique_set)"
   ]
  },
  {
   "cell_type": "code",
   "execution_count": null,
   "id": "920995cc",
   "metadata": {},
   "outputs": [],
   "source": [
    "len(lista_jogos_unicos)"
   ]
  },
  {
   "cell_type": "markdown",
   "id": "81f3da1b",
   "metadata": {},
   "source": [
    "### Getting match info from all those matches"
   ]
  },
  {
   "cell_type": "code",
   "execution_count": null,
   "id": "6fa37ac0",
   "metadata": {
    "scrolled": true
   },
   "outputs": [],
   "source": [
    "match_info_list = []\n",
    "count = 0\n",
    "for match in lista_jogos_unicos:\n",
    "    match_info = get_match_info(api_key, match)\n",
    "    if (match_info['info']['gameMode'] == 'CLASSIC' and  match_info['info']['gameType'] == 'MATCHED_GAME'):\n",
    "        match_info_list.append(match_info)\n",
    "    count +=1\n",
    "    if count == 100:\n",
    "        time.sleep(120)\n",
    "        count=0"
   ]
  },
  {
   "cell_type": "code",
   "execution_count": null,
   "id": "ee2ccf1b",
   "metadata": {},
   "outputs": [],
   "source": [
    "len(match_info_list)"
   ]
  },
  {
   "cell_type": "code",
   "execution_count": null,
   "id": "42bb343e",
   "metadata": {},
   "outputs": [],
   "source": [
    "match_info_list_keep = match_info_list[397:]"
   ]
  },
  {
   "cell_type": "code",
   "execution_count": null,
   "id": "ee120923",
   "metadata": {},
   "outputs": [],
   "source": [
    "len(match_info_list_keep)"
   ]
  },
  {
   "cell_type": "code",
   "execution_count": null,
   "id": "2dec13a7",
   "metadata": {
    "scrolled": true
   },
   "outputs": [],
   "source": [
    "match_info_list"
   ]
  },
  {
   "cell_type": "markdown",
   "id": "0cf828d2",
   "metadata": {},
   "source": [
    "#### Exporting as JSON, to use as a model to create SQL DB"
   ]
  },
  {
   "cell_type": "code",
   "execution_count": null,
   "id": "2a25c055",
   "metadata": {},
   "outputs": [],
   "source": [
    "import json\n",
    "nome_do_arquivo = 'challenger_matchs.json'"
   ]
  },
  {
   "cell_type": "code",
   "execution_count": null,
   "id": "1110ceec",
   "metadata": {},
   "outputs": [],
   "source": [
    "# Abra o arquivo JSON em modo de escrita\n",
    "with open(nome_do_arquivo, 'w') as arquivo_json:\n",
    "    # Use a função dump() da biblioteca json para escrever a lista no arquivo JSON\n",
    "    json.dump(match_info_list_keep, arquivo_json)\n"
   ]
  },
  {
   "cell_type": "code",
   "execution_count": null,
   "id": "37ec6d6e",
   "metadata": {},
   "outputs": [],
   "source": []
  }
 ],
 "metadata": {
  "kernelspec": {
   "display_name": "Python 3 (ipykernel)",
   "language": "python",
   "name": "python3"
  },
  "language_info": {
   "codemirror_mode": {
    "name": "ipython",
    "version": 3
   },
   "file_extension": ".py",
   "mimetype": "text/x-python",
   "name": "python",
   "nbconvert_exporter": "python",
   "pygments_lexer": "ipython3",
   "version": "3.11.4"
  }
 },
 "nbformat": 4,
 "nbformat_minor": 5
}
