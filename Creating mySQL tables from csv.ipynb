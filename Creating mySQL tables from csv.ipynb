{
 "cells": [
  {
   "cell_type": "code",
   "execution_count": 4,
   "id": "6078728d",
   "metadata": {},
   "outputs": [],
   "source": [
    "import os\n",
    "from dotenv import load_dotenv\n",
    "\n",
    "env_file_path = \"C:/Users/Rofel/League of Legends Project/API usage/mySQL.env\"\n",
    "\n",
    "\n",
    "# Load variables from .env file\n",
    "load_dotenv(dotenv_path=env_file_path)\n",
    "\n",
    "# Access environment variables\n",
    "mysql_username = os.getenv(\"MYSQL_USERNAME\")\n",
    "mysql_password = os.getenv(\"MYSQL_PASSWORD\")"
   ]
  },
  {
   "cell_type": "code",
   "execution_count": 5,
   "id": "1e4c9bc4",
   "metadata": {},
   "outputs": [],
   "source": [
    "import pandas as pd\n",
    "from sqlalchemy import create_engine\n",
    "import MySQLdb\n",
    "\n",
    "# Define your database connection URL\n",
    "# Replace 'database_type' with your database type (e.g., 'mysql', 'postgresql')\n",
    "# Replace 'username', 'password', 'hostname', 'port', and 'database_name' with your database credentials\n",
    "# Define your MySQL database connection parameters\n",
    "db_username = mysql_username\n",
    "db_password = mysql_password\n",
    "db_hostname = \"127.0.0.1\"\n",
    "db_port = \"3306\"  # Default MySQL port\n",
    "db_name = \"leagueapi\"\n",
    "\n",
    "# Create a SQLAlchemy database engine\n",
    "engine = create_engine(f\"mysql://{db_username}:{db_password}@{db_hostname}:{db_port}/{db_name}\")\n",
    "\n"
   ]
  },
  {
   "cell_type": "code",
   "execution_count": 6,
   "id": "cb61706c",
   "metadata": {},
   "outputs": [
    {
     "name": "stdout",
     "output_type": "stream",
     "text": [
      "Table 'items' created successfully with data from the CSV.\n",
      "Table 'bans' created successfully with data from the CSV.\n",
      "Table 'matchs' created successfully with data from the CSV.\n",
      "Table 'players' created successfully with data from the CSV.\n",
      "Table 'teams' created successfully with data from the CSV.\n",
      "Table 'players_stats' created successfully with data from the CSV.\n"
     ]
    }
   ],
   "source": [
    "\n",
    "tables = ['items','bans','matchs','players','teams','players_stats']\n",
    "for table in tables:\n",
    "    # CSV file path\n",
    "    csv_file_path = f\"{table}.csv\"\n",
    "\n",
    "    # Read CSV into a Pandas DataFrame\n",
    "    df = pd.read_csv(csv_file_path, low_memory=False)\n",
    "\n",
    "\n",
    "    # Define the SQL table name\n",
    "    table_name = table\n",
    "\n",
    "    # Use the DataFrame to_sql method to create the table and insert data\n",
    "    df.to_sql(table_name, engine, if_exists=\"replace\", index=False)\n",
    "\n",
    "    # Commit the changes (if using SQLAlchemy transactions)\n",
    "    # engine.connect().commit()\n",
    "\n",
    "    # Close the database connection\n",
    "    engine.dispose()\n",
    "\n",
    "    print(f\"Table '{table_name}' created successfully with data from the CSV.\")\n"
   ]
  },
  {
   "cell_type": "code",
   "execution_count": null,
   "id": "e932c6d7",
   "metadata": {},
   "outputs": [],
   "source": []
  }
 ],
 "metadata": {
  "kernelspec": {
   "display_name": "Python 3 (ipykernel)",
   "language": "python",
   "name": "python3"
  },
  "language_info": {
   "codemirror_mode": {
    "name": "ipython",
    "version": 3
   },
   "file_extension": ".py",
   "mimetype": "text/x-python",
   "name": "python",
   "nbconvert_exporter": "python",
   "pygments_lexer": "ipython3",
   "version": "3.11.4"
  }
 },
 "nbformat": 4,
 "nbformat_minor": 5
}
